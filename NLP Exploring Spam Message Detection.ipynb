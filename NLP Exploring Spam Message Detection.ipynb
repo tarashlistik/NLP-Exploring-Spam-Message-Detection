{
 "cells": [
  {
   "cell_type": "code",
   "execution_count": 1,
   "id": "0c3a2144-6967-4d45-9100-1575a5a13efa",
   "metadata": {},
   "outputs": [],
   "source": [
    "import pandas as pd\n",
    "import numpy as np\n",
    "import seaborn as sns\n",
    "import matplotlib.pyplot as plt\n",
    "\n",
    "import nltk\n",
    "import string\n",
    "from nltk.tokenize import word_tokenize\n",
    "from nltk.corpus import stopwords\n",
    "from nltk.stem.wordnet import WordNetLemmatizer\n",
    "from sklearn.model_selection import train_test_split\n",
    "\n",
    "from sklearn.feature_extraction.text import TfidfVectorizer\n",
    "from sklearn.linear_model import LogisticRegression\n",
    "from sklearn.tree import DecisionTreeClassifier\n",
    "from sklearn.ensemble import RandomForestClassifier\n",
    "import re\n",
    "from sklearn.naive_bayes import GaussianNB\n",
    "from sklearn.svm import SVC\n",
    "\n",
    "from sklearn.metrics import accuracy_score "
   ]
  },
  {
   "cell_type": "code",
   "execution_count": 2,
   "id": "2204c797-f605-44ab-a8c7-91c545aa4122",
   "metadata": {},
   "outputs": [],
   "source": [
    "df = pd.read_csv(\"/Users/admin/Downloads/SPAM text message 20170820 - Data.csv\")"
   ]
  },
  {
   "cell_type": "code",
   "execution_count": 3,
   "id": "43751b72-56dd-4160-97dd-270a85a85a3f",
   "metadata": {},
   "outputs": [
    {
     "data": {
      "text/html": [
       "<div>\n",
       "<style scoped>\n",
       "    .dataframe tbody tr th:only-of-type {\n",
       "        vertical-align: middle;\n",
       "    }\n",
       "\n",
       "    .dataframe tbody tr th {\n",
       "        vertical-align: top;\n",
       "    }\n",
       "\n",
       "    .dataframe thead th {\n",
       "        text-align: right;\n",
       "    }\n",
       "</style>\n",
       "<table border=\"1\" class=\"dataframe\">\n",
       "  <thead>\n",
       "    <tr style=\"text-align: right;\">\n",
       "      <th></th>\n",
       "      <th>Category</th>\n",
       "      <th>Message</th>\n",
       "    </tr>\n",
       "  </thead>\n",
       "  <tbody>\n",
       "    <tr>\n",
       "      <th>0</th>\n",
       "      <td>ham</td>\n",
       "      <td>Go until jurong point, crazy.. Available only ...</td>\n",
       "    </tr>\n",
       "    <tr>\n",
       "      <th>1</th>\n",
       "      <td>ham</td>\n",
       "      <td>Ok lar... Joking wif u oni...</td>\n",
       "    </tr>\n",
       "    <tr>\n",
       "      <th>2</th>\n",
       "      <td>spam</td>\n",
       "      <td>Free entry in 2 a wkly comp to win FA Cup fina...</td>\n",
       "    </tr>\n",
       "    <tr>\n",
       "      <th>3</th>\n",
       "      <td>ham</td>\n",
       "      <td>U dun say so early hor... U c already then say...</td>\n",
       "    </tr>\n",
       "    <tr>\n",
       "      <th>4</th>\n",
       "      <td>ham</td>\n",
       "      <td>Nah I don't think he goes to usf, he lives aro...</td>\n",
       "    </tr>\n",
       "  </tbody>\n",
       "</table>\n",
       "</div>"
      ],
      "text/plain": [
       "  Category                                            Message\n",
       "0      ham  Go until jurong point, crazy.. Available only ...\n",
       "1      ham                      Ok lar... Joking wif u oni...\n",
       "2     spam  Free entry in 2 a wkly comp to win FA Cup fina...\n",
       "3      ham  U dun say so early hor... U c already then say...\n",
       "4      ham  Nah I don't think he goes to usf, he lives aro..."
      ]
     },
     "execution_count": 3,
     "metadata": {},
     "output_type": "execute_result"
    }
   ],
   "source": [
    "df.head()"
   ]
  },
  {
   "cell_type": "code",
   "execution_count": 4,
   "id": "e4ac5c53-ff78-4538-98ab-9589feabb81b",
   "metadata": {},
   "outputs": [
    {
     "name": "stderr",
     "output_type": "stream",
     "text": [
      "/Users/admin/anaconda3/lib/python3.10/site-packages/seaborn/_oldcore.py:1498: FutureWarning: is_categorical_dtype is deprecated and will be removed in a future version. Use isinstance(dtype, CategoricalDtype) instead\n",
      "  if pd.api.types.is_categorical_dtype(vector):\n",
      "/Users/admin/anaconda3/lib/python3.10/site-packages/seaborn/_oldcore.py:1498: FutureWarning: is_categorical_dtype is deprecated and will be removed in a future version. Use isinstance(dtype, CategoricalDtype) instead\n",
      "  if pd.api.types.is_categorical_dtype(vector):\n",
      "/Users/admin/anaconda3/lib/python3.10/site-packages/seaborn/_oldcore.py:1498: FutureWarning: is_categorical_dtype is deprecated and will be removed in a future version. Use isinstance(dtype, CategoricalDtype) instead\n",
      "  if pd.api.types.is_categorical_dtype(vector):\n"
     ]
    },
    {
     "data": {
      "text/plain": [
       "<Axes: xlabel='Category', ylabel='count'>"
      ]
     },
     "execution_count": 4,
     "metadata": {},
     "output_type": "execute_result"
    },
    {
     "data": {
      "image/png": "[encoded data removed]",
      "text/plain": [
       "<Figure size 640x480 with 1 Axes>"
      ]
     },
     "metadata": {},
     "output_type": "display_data"
    }
   ],
   "source": [
    "sns.countplot(x='Category', data=df, palette=\"Set2\")"
   ]
  },
  {
   "cell_type": "code",
   "execution_count": 5,
   "id": "1276214b-c7eb-42fa-a385-260df2121110",
   "metadata": {},
   "outputs": [],
   "source": [
    "def cleaning(text):\n",
    "    text = text.lower()\n",
    "    text = re.sub(r'@\\S+', '', text)\n",
    "    text = re.sub(r'http\\S+', '', text) #видалення силок\n",
    "    text = re.sub(r'pic.\\S+', '', text)\n",
    "    text = re.sub(r\"[^a-zA-ZáéíóúÁÉÍÓÚ']\", ' ', text) #залишити тільки символи\n",
    "    text = re.sub(r\"\\s+[^a-zA-ZáéíóúÁÉÍÓÚ']\\s+\", ' ', text) # залишити символи довжиною > 1\n",
    "    text = \"\".join([txt for txt in text if txt not in string.punctuation])\n",
    "\n",
    "    text = word_tokenize(text)\n",
    "    stop_word = nltk.corpus.stopwords.words(\"english\")\n",
    "    text = \" \".join([txt for txt in text if txt not in stop_word])\n",
    "    text= re.sub(\"\\s[\\s]+\", \" \",text).strip() #видалення пробілів\n",
    "    text= re.sub(\"\\s[\\s]+\", \" \",text).strip()\n",
    "\n",
    "    return text"
   ]
  },
  {
   "cell_type": "code",
   "execution_count": 6,
   "id": "1f42736a-0597-4457-888e-60a7453a637a",
   "metadata": {},
   "outputs": [],
   "source": [
    "df['Message'] = df['Message'].apply(cleaning)"
   ]
  },
  {
   "cell_type": "code",
   "execution_count": 7,
   "id": "41238e51-a7c5-4b24-96ad-3e77a363f891",
   "metadata": {},
   "outputs": [],
   "source": [
    "df['Category'] = df['Category'].replace({'ham': 0, 'spam': 1}) # перетворення категорій в бінарний вигляд"
   ]
  },
  {
   "cell_type": "code",
   "execution_count": 8,
   "id": "277f25e7-3f31-4f51-b6a3-7f8e45fc7487",
   "metadata": {},
   "outputs": [],
   "source": [
    "def lemm(data):\n",
    "    lemmanized = []\n",
    "    wnl = WordNetLemmatizer()\n",
    "    for i in range(len(df)):\n",
    "        tokenz = word_tokenize(data['Message'].iloc[i])\n",
    "        lemmed = []\n",
    "        for word in tokenz:\n",
    "           lemmed.append(wnl.lemmatize(word))\n",
    "        lemmanized.append(lemmed)\n",
    "    data['lemmanized'] = lemmanized\n",
    "    data['text'] = data['lemmanized'].apply(\" \".join)\n",
    "    data.drop('lemmanized', axis=1)\n",
    "    data.drop('Message', axis=1)\n",
    "    return data"
   ]
  },
  {
   "cell_type": "code",
   "execution_count": 9,
   "id": "e96e0e1e-ab9a-45fb-8237-0d49c5b8752b",
   "metadata": {},
   "outputs": [],
   "source": [
    "df = lemm(df)"
   ]
  },
  {
   "cell_type": "code",
   "execution_count": 10,
   "id": "b2244895-3155-4031-8486-a842e78055d2",
   "metadata": {},
   "outputs": [
    {
     "data": {
      "text/html": [
       "<div>\n",
       "<style scoped>\n",
       "    .dataframe tbody tr th:only-of-type {\n",
       "        vertical-align: middle;\n",
       "    }\n",
       "\n",
       "    .dataframe tbody tr th {\n",
       "        vertical-align: top;\n",
       "    }\n",
       "\n",
       "    .dataframe thead th {\n",
       "        text-align: right;\n",
       "    }\n",
       "</style>\n",
       "<table border=\"1\" class=\"dataframe\">\n",
       "  <thead>\n",
       "    <tr style=\"text-align: right;\">\n",
       "      <th></th>\n",
       "      <th>Category</th>\n",
       "      <th>Message</th>\n",
       "      <th>lemmanized</th>\n",
       "      <th>text</th>\n",
       "    </tr>\n",
       "  </thead>\n",
       "  <tbody>\n",
       "    <tr>\n",
       "      <th>0</th>\n",
       "      <td>0</td>\n",
       "      <td>go jurong point crazy available bugis n great ...</td>\n",
       "      <td>[go, jurong, point, crazy, available, bugis, n...</td>\n",
       "      <td>go jurong point crazy available bugis n great ...</td>\n",
       "    </tr>\n",
       "    <tr>\n",
       "      <th>1</th>\n",
       "      <td>0</td>\n",
       "      <td>ok lar joking wif u oni</td>\n",
       "      <td>[ok, lar, joking, wif, u, oni]</td>\n",
       "      <td>ok lar joking wif u oni</td>\n",
       "    </tr>\n",
       "    <tr>\n",
       "      <th>2</th>\n",
       "      <td>1</td>\n",
       "      <td>free entry wkly comp win fa cup final tkts st ...</td>\n",
       "      <td>[free, entry, wkly, comp, win, fa, cup, final,...</td>\n",
       "      <td>free entry wkly comp win fa cup final tkts st ...</td>\n",
       "    </tr>\n",
       "    <tr>\n",
       "      <th>3</th>\n",
       "      <td>0</td>\n",
       "      <td>u dun say early hor u c already say</td>\n",
       "      <td>[u, dun, say, early, hor, u, c, already, say]</td>\n",
       "      <td>u dun say early hor u c already say</td>\n",
       "    </tr>\n",
       "    <tr>\n",
       "      <th>4</th>\n",
       "      <td>0</td>\n",
       "      <td>nah dont think goes usf lives around though</td>\n",
       "      <td>[nah, dont, think, go, usf, life, around, though]</td>\n",
       "      <td>nah dont think go usf life around though</td>\n",
       "    </tr>\n",
       "  </tbody>\n",
       "</table>\n",
       "</div>"
      ],
      "text/plain": [
       "   Category                                            Message  \\\n",
       "0         0  go jurong point crazy available bugis n great ...   \n",
       "1         0                            ok lar joking wif u oni   \n",
       "2         1  free entry wkly comp win fa cup final tkts st ...   \n",
       "3         0                u dun say early hor u c already say   \n",
       "4         0        nah dont think goes usf lives around though   \n",
       "\n",
       "                                          lemmanized  \\\n",
       "0  [go, jurong, point, crazy, available, bugis, n...   \n",
       "1                     [ok, lar, joking, wif, u, oni]   \n",
       "2  [free, entry, wkly, comp, win, fa, cup, final,...   \n",
       "3      [u, dun, say, early, hor, u, c, already, say]   \n",
       "4  [nah, dont, think, go, usf, life, around, though]   \n",
       "\n",
       "                                                text  \n",
       "0  go jurong point crazy available bugis n great ...  \n",
       "1                            ok lar joking wif u oni  \n",
       "2  free entry wkly comp win fa cup final tkts st ...  \n",
       "3                u dun say early hor u c already say  \n",
       "4           nah dont think go usf life around though  "
      ]
     },
     "execution_count": 10,
     "metadata": {},
     "output_type": "execute_result"
    }
   ],
   "source": [
    "df.head()"
   ]
  },
  {
   "cell_type": "code",
   "execution_count": 11,
   "id": "e7ab8ad5-63e3-4959-b8c6-1b74954df887",
   "metadata": {},
   "outputs": [],
   "source": [
    "clas0, clas1 = df[\"Category\"].value_counts()\n",
    "df0 = df[df[\"Category\"]==0]\n",
    "df1 = df[df[\"Category\"]==1]\n",
    "df1 = df1.sample(clas0,replace=True) # зрівняння кількості значень\n",
    "data = pd.concat([df0,df1])"
   ]
  },
  {
   "cell_type": "code",
   "execution_count": 12,
   "id": "eb5e6d5d-513d-49a4-bbf9-ee97372481cf",
   "metadata": {},
   "outputs": [],
   "source": [
    "labels = df['Category']\n",
    "data = df['text']"
   ]
  },
  {
   "cell_type": "code",
   "execution_count": 13,
   "id": "4cc0e74a-6127-4dc8-be97-a9307283e3da",
   "metadata": {},
   "outputs": [],
   "source": [
    "X_train, X_test, y_train, y_test = train_test_split(data, labels, test_size = 0.2, random_state = 42)"
   ]
  },
  {
   "cell_type": "code",
   "execution_count": 14,
   "id": "20537b16-bdce-4421-be1f-049ad98dfd28",
   "metadata": {},
   "outputs": [
    {
     "data": {
      "text/plain": [
       "1978    reply win weekly fifa world cup held send stop...\n",
       "3989    hello sort town already dont rush home eating ...\n",
       "3935                        come guoyang go n tell u told\n",
       "4078    hey sathya till dint meet even single time saw...\n",
       "4086    orange brings ringtones time chart hero free h...\n",
       "                              ...                        \n",
       "3772    hi wlcome back wonder got eaten lion something...\n",
       "5191                                 sorry ill call later\n",
       "5226             prabha im soryda realy frm heart im sory\n",
       "5390                             nt joking seriously told\n",
       "860                              say somebody named tampa\n",
       "Name: text, Length: 4457, dtype: object"
      ]
     },
     "execution_count": 14,
     "metadata": {},
     "output_type": "execute_result"
    }
   ],
   "source": [
    "X_train"
   ]
  },
  {
   "cell_type": "code",
   "execution_count": 15,
   "id": "dd4698f9-fe82-418c-854a-1b666cbbd643",
   "metadata": {},
   "outputs": [],
   "source": [
    "tfv = TfidfVectorizer() # трансформація в вектори\n",
    "X_train = tfv.fit_transform(X_train)\n",
    "X_test = tfv.transform(X_test)"
   ]
  },
  {
   "cell_type": "code",
   "execution_count": 16,
   "id": "92026281-c842-4b28-bdbf-884b5fd478e1",
   "metadata": {},
   "outputs": [
    {
     "name": "stdout",
     "output_type": "stream",
     "text": [
      "0.9650224215246637\n"
     ]
    }
   ],
   "source": [
    "lr = LogisticRegression()\n",
    "lr.fit(X_train,y_train)\n",
    "preds = lr.predict(X_test)\n",
    "print(accuracy_score(preds,y_test))"
   ]
  },
  {
   "cell_type": "code",
   "execution_count": 17,
   "id": "2bb820a4-7f1f-4d1e-b777-933b690c451f",
   "metadata": {},
   "outputs": [
    {
     "data": {
      "text/plain": [
       "0.967713004484305"
      ]
     },
     "execution_count": 17,
     "metadata": {},
     "output_type": "execute_result"
    }
   ],
   "source": [
    "dtc = DecisionTreeClassifier()\n",
    "dtc.fit(X_train, y_train)\n",
    "pred = dtc.predict(X_test)\n",
    "accuracy_score(pred, y_test)"
   ]
  },
  {
   "cell_type": "code",
   "execution_count": 18,
   "id": "1b5d9e7c-b8c6-43eb-ba8d-29c21f03aa31",
   "metadata": {},
   "outputs": [
    {
     "data": {
      "text/plain": [
       "0.9748878923766816"
      ]
     },
     "execution_count": 18,
     "metadata": {},
     "output_type": "execute_result"
    }
   ],
   "source": [
    "rfc = RandomForestClassifier()\n",
    "rfc.fit(X_train, y_train)\n",
    "predict = rfc.predict(X_test)\n",
    "accuracy_score(predict, y_test)"
   ]
  },
  {
   "cell_type": "code",
   "execution_count": 19,
   "id": "1380cdac-e358-4bf4-b51b-57df6bdc1d81",
   "metadata": {},
   "outputs": [
    {
     "data": {
      "text/plain": [
       "0.885201793721973"
      ]
     },
     "execution_count": 19,
     "metadata": {},
     "output_type": "execute_result"
    }
   ],
   "source": [
    "gnb = GaussianNB()\n",
    "gnb.fit(X_train.toarray(), y_train)\n",
    "predict = gnb.predict(X_test.toarray())\n",
    "accuracy_score(predict, y_test)"
   ]
  },
  {
   "cell_type": "code",
   "execution_count": 20,
   "id": "0bb75549",
   "metadata": {},
   "outputs": [
    {
     "data": {
      "text/plain": [
       "0.9811659192825112"
      ]
     },
     "execution_count": 20,
     "metadata": {},
     "output_type": "execute_result"
    }
   ],
   "source": [
    "svc = SVC()\n",
    "svc.fit(X_train, y_train)\n",
    "predict = svc.predict(X_test)\n",
    "accuracy_score(predict, y_test)"
   ]
  }
 ],
 "metadata": {
  "kernelspec": {
   "display_name": "Python 3 (ipykernel)",
   "language": "python",
   "name": "python3"
  },
  "language_info": {
   "codemirror_mode": {
    "name": "ipython",
    "version": 3
   },
   "file_extension": ".py",
   "mimetype": "text/x-python",
   "name": "python",
   "nbconvert_exporter": "python",
   "pygments_lexer": "ipython3",
   "version": "3.10.9"
  }
 },
 "nbformat": 4,
 "nbformat_minor": 5
}
